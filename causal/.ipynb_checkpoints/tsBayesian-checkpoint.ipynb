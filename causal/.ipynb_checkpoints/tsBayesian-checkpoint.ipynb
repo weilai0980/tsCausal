{
 "cells": [
  {
   "cell_type": "code",
   "execution_count": null,
   "metadata": {
    "collapsed": true
   },
   "outputs": [],
   "source": [
    "import matplotlib.pyplot as plt\n",
    "import numpy as np\n",
    "import pymc3\n",
    "import scipy.stats as stats\n",
    "\n",
    "plt.style.use(\"ggplot\")"
   ]
  },
  {
   "cell_type": "code",
   "execution_count": null,
   "metadata": {
    "collapsed": true
   },
   "outputs": [],
   "source": [
    "# Parameter values for prior and analytic posterior\n",
    "n = 50\n",
    "z = 10\n",
    "alpha = 12\n",
    "beta = 12\n",
    "alpha_post = 22\n",
    "beta_post = 52\n",
    "\n",
    "# How many iterations of the Metropolis \n",
    "# algorithm to carry out for MCMC\n",
    "iterations = 100000\n",
    "\n",
    "# Use PyMC3 to construct a model context\n",
    "basic_model = pymc3.Model()\n",
    "with basic_model:\n",
    "    # Define our prior belief about the fairness\n",
    "    # of the coin using a Beta distribution\n",
    "    theta = pymc3.Beta(\"theta\", alpha=alpha, beta=beta)\n",
    "\n",
    "    # Define the Bernoulli likelihood function\n",
    "    y = pymc3.Binomial(\"y\", n=n, p=theta, observed=z)\n",
    "\n",
    "    # Carry out the MCMC analysis using the Metropolis algorithm\n",
    "    # Use Maximum A Posteriori (MAP) optimisation as initial value for MCMC\n",
    "    start = pymc3.find_MAP() \n",
    "\n",
    "    # Use the Metropolis algorithm (as opposed to NUTS or HMC, etc.)\n",
    "    step = pymc3.Metropolis()\n",
    "\n",
    "    # Calculate the trace\n",
    "    trace = pymc3.sample(iterations, step, start, random_seed=1, progressbar=True)"
   ]
  },
  {
   "cell_type": "code",
   "execution_count": null,
   "metadata": {
    "collapsed": true
   },
   "outputs": [],
   "source": [
    "bins=50\n",
    "plt.hist(\n",
    "    trace[\"theta\"][:5000], bins, \n",
    "    histtype=\"step\", normed=True, \n",
    "    label=\"Posterior (MCMC)\", color=\"red\"\n",
    ")\n",
    "\n",
    "# Plot the analytic prior and posterior beta distributions\n",
    "x = np.linspace(0, 1, 100)\n",
    "plt.plot(\n",
    "    x, stats.beta.pdf(x, alpha, beta), \n",
    "    \"--\", label=\"Prior\", color=\"blue\"\n",
    ")\n",
    "plt.plot(\n",
    "    x, stats.beta.pdf(x, alpha_post, beta_post), \n",
    "    label='Posterior (Analytic)', color=\"green\"\n",
    ")\n",
    "\n",
    "\n",
    "# Update the graph labels\n",
    "plt.legend(title=\"Parameters\", loc=\"best\")\n",
    "plt.xlabel(\"$\\\\theta$, Fairness\")\n",
    "plt.ylabel(\"Density\")\n",
    "plt.show()"
   ]
  }
 ],
 "metadata": {
  "kernelspec": {
   "display_name": "Python 2",
   "language": "python",
   "name": "python2"
  },
  "language_info": {
   "codemirror_mode": {
    "name": "ipython",
    "version": 2
   },
   "file_extension": ".py",
   "mimetype": "text/x-python",
   "name": "python",
   "nbconvert_exporter": "python",
   "pygments_lexer": "ipython2",
   "version": "2.7.12"
  }
 },
 "nbformat": 4,
 "nbformat_minor": 2
}
